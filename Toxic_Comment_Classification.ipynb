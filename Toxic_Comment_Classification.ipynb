{
  "nbformat": 4,
  "nbformat_minor": 0,
  "metadata": {
    "colab": {
      "name": "Toxic Comment Classification.ipynb",
      "version": "0.3.2",
      "provenance": [],
      "collapsed_sections": []
    },
    "kernelspec": {
      "name": "python3",
      "display_name": "Python 3"
    },
    "accelerator": "GPU"
  },
  "cells": [
    {
      "cell_type": "code",
      "metadata": {
        "id": "uhuIHE5KxxEL",
        "colab_type": "code",
        "colab": {}
      },
      "source": [
        ""
      ],
      "execution_count": 0,
      "outputs": []
    },
    {
      "cell_type": "code",
      "metadata": {
        "id": "dfLyW2T74HvS",
        "colab_type": "code",
        "outputId": "79757985-23b8-4991-cb3c-9b86494564df",
        "colab": {
          "base_uri": "https://localhost:8080/",
          "height": 128
        }
      },
      "source": [
        "from google.colab import drive\n",
        "drive.mount('/content/drive')"
      ],
      "execution_count": 1,
      "outputs": [
        {
          "output_type": "stream",
          "text": [
            "Go to this URL in a browser: https://accounts.google.com/o/oauth2/auth?client_id=947318989803-6bn6qk8qdgf4n4g3pfee6491hc0brc4i.apps.googleusercontent.com&redirect_uri=urn%3Aietf%3Awg%3Aoauth%3A2.0%3Aoob&scope=email%20https%3A%2F%2Fwww.googleapis.com%2Fauth%2Fdocs.test%20https%3A%2F%2Fwww.googleapis.com%2Fauth%2Fdrive%20https%3A%2F%2Fwww.googleapis.com%2Fauth%2Fdrive.photos.readonly%20https%3A%2F%2Fwww.googleapis.com%2Fauth%2Fpeopleapi.readonly&response_type=code\n",
            "\n",
            "Enter your authorization code:\n",
            "··········\n",
            "Mounted at /content/drive\n"
          ],
          "name": "stdout"
        }
      ]
    },
    {
      "cell_type": "code",
      "metadata": {
        "id": "ie2QGFAz4IVf",
        "colab_type": "code",
        "colab": {}
      },
      "source": [
        "import zipfile\n",
        "fil=zipfile.ZipFile('drive/My Drive/LSTM/jigsaw-toxic-comment-classification-challenge.zip','r')\n",
        "fil.extractall()\n",
        "fil.close()"
      ],
      "execution_count": 0,
      "outputs": []
    },
    {
      "cell_type": "code",
      "metadata": {
        "id": "zVBcg-rs-k6w",
        "colab_type": "code",
        "colab": {}
      },
      "source": [
        "import pandas as pd\n",
        "import numpy as np\n",
        "from keras.preprocessing.text import Tokenizer\n",
        "from keras.preprocessing.sequence import pad_sequences\n"
      ],
      "execution_count": 0,
      "outputs": []
    },
    {
      "cell_type": "code",
      "metadata": {
        "id": "4rxBSi6c4Y50",
        "colab_type": "code",
        "colab": {}
      },
      "source": [
        "train=pd.read_csv('train.csv')\n",
        "test=pd.read_csv('test.csv')\n"
      ],
      "execution_count": 0,
      "outputs": []
    },
    {
      "cell_type": "code",
      "metadata": {
        "id": "Rp2X0Mel-1KD",
        "colab_type": "code",
        "outputId": "3ab15cd9-8a16-4f7d-b83b-56151b527e6c",
        "colab": {
          "base_uri": "https://localhost:8080/",
          "height": 371
        }
      },
      "source": [
        "train.head()\n"
      ],
      "execution_count": 33,
      "outputs": [
        {
          "output_type": "execute_result",
          "data": {
            "text/html": [
              "<div>\n",
              "<style scoped>\n",
              "    .dataframe tbody tr th:only-of-type {\n",
              "        vertical-align: middle;\n",
              "    }\n",
              "\n",
              "    .dataframe tbody tr th {\n",
              "        vertical-align: top;\n",
              "    }\n",
              "\n",
              "    .dataframe thead th {\n",
              "        text-align: right;\n",
              "    }\n",
              "</style>\n",
              "<table border=\"1\" class=\"dataframe\">\n",
              "  <thead>\n",
              "    <tr style=\"text-align: right;\">\n",
              "      <th></th>\n",
              "      <th>id</th>\n",
              "      <th>comment_text</th>\n",
              "      <th>toxic</th>\n",
              "      <th>severe_toxic</th>\n",
              "      <th>obscene</th>\n",
              "      <th>threat</th>\n",
              "      <th>insult</th>\n",
              "      <th>identity_hate</th>\n",
              "    </tr>\n",
              "  </thead>\n",
              "  <tbody>\n",
              "    <tr>\n",
              "      <th>0</th>\n",
              "      <td>0000997932d777bf</td>\n",
              "      <td>Explanation\\nWhy the edits made under my usern...</td>\n",
              "      <td>0</td>\n",
              "      <td>0</td>\n",
              "      <td>0</td>\n",
              "      <td>0</td>\n",
              "      <td>0</td>\n",
              "      <td>0</td>\n",
              "    </tr>\n",
              "    <tr>\n",
              "      <th>1</th>\n",
              "      <td>000103f0d9cfb60f</td>\n",
              "      <td>D'aww! He matches this background colour I'm s...</td>\n",
              "      <td>0</td>\n",
              "      <td>0</td>\n",
              "      <td>0</td>\n",
              "      <td>0</td>\n",
              "      <td>0</td>\n",
              "      <td>0</td>\n",
              "    </tr>\n",
              "    <tr>\n",
              "      <th>2</th>\n",
              "      <td>000113f07ec002fd</td>\n",
              "      <td>Hey man, I'm really not trying to edit war. It...</td>\n",
              "      <td>0</td>\n",
              "      <td>0</td>\n",
              "      <td>0</td>\n",
              "      <td>0</td>\n",
              "      <td>0</td>\n",
              "      <td>0</td>\n",
              "    </tr>\n",
              "    <tr>\n",
              "      <th>3</th>\n",
              "      <td>0001b41b1c6bb37e</td>\n",
              "      <td>\"\\nMore\\nI can't make any real suggestions on ...</td>\n",
              "      <td>0</td>\n",
              "      <td>0</td>\n",
              "      <td>0</td>\n",
              "      <td>0</td>\n",
              "      <td>0</td>\n",
              "      <td>0</td>\n",
              "    </tr>\n",
              "    <tr>\n",
              "      <th>4</th>\n",
              "      <td>0001d958c54c6e35</td>\n",
              "      <td>You, sir, are my hero. Any chance you remember...</td>\n",
              "      <td>0</td>\n",
              "      <td>0</td>\n",
              "      <td>0</td>\n",
              "      <td>0</td>\n",
              "      <td>0</td>\n",
              "      <td>0</td>\n",
              "    </tr>\n",
              "  </tbody>\n",
              "</table>\n",
              "</div>"
            ],
            "text/plain": [
              "                 id  ... identity_hate\n",
              "0  0000997932d777bf  ...             0\n",
              "1  000103f0d9cfb60f  ...             0\n",
              "2  000113f07ec002fd  ...             0\n",
              "3  0001b41b1c6bb37e  ...             0\n",
              "4  0001d958c54c6e35  ...             0\n",
              "\n",
              "[5 rows x 8 columns]"
            ]
          },
          "metadata": {
            "tags": []
          },
          "execution_count": 33
        }
      ]
    },
    {
      "cell_type": "code",
      "metadata": {
        "id": "hUdx0rqO-4ck",
        "colab_type": "code",
        "outputId": "98b030f1-c3c9-4f4b-f9ef-21171486bd85",
        "colab": {
          "base_uri": "https://localhost:8080/",
          "height": 72
        }
      },
      "source": [
        "train.columns"
      ],
      "execution_count": 34,
      "outputs": [
        {
          "output_type": "execute_result",
          "data": {
            "text/plain": [
              "Index(['id', 'comment_text', 'toxic', 'severe_toxic', 'obscene', 'threat',\n",
              "       'insult', 'identity_hate'],\n",
              "      dtype='object')"
            ]
          },
          "metadata": {
            "tags": []
          },
          "execution_count": 34
        }
      ]
    },
    {
      "cell_type": "code",
      "metadata": {
        "id": "6us6hIF__FVR",
        "colab_type": "code",
        "colab": {}
      },
      "source": [
        "list_classes=['toxic','severe_toxic','obscene','threat','insult','identity_hate']\n",
        "y=train[list_classes].values\n",
        "list_sentence_train=train['comment_text']\n",
        "list_sentence_test=test['comment_text']\n"
      ],
      "execution_count": 0,
      "outputs": []
    },
    {
      "cell_type": "code",
      "metadata": {
        "id": "quwVM15a_hw6",
        "colab_type": "code",
        "colab": {}
      },
      "source": [
        "max_features=2000\n",
        "tokenizer=Tokenizer(num_words=max_features)\n",
        "tokenizer.fit_on_texts(list(list_sentence_train))\n",
        "list_tokenizer_train=tokenizer.texts_to_sequences(list_sentence_train)\n",
        "list_tokenizer_test=tokenizer.texts_to_sequences(list_sentence_test)\n"
      ],
      "execution_count": 0,
      "outputs": []
    },
    {
      "cell_type": "code",
      "metadata": {
        "id": "Fj-PlTIo_iMW",
        "colab_type": "code",
        "outputId": "f404fadd-a661-43d3-d4b6-d8b38abe35c8",
        "colab": {
          "base_uri": "https://localhost:8080/",
          "height": 635
        }
      },
      "source": [
        "list_tokenizer_train[:1]\n"
      ],
      "execution_count": 37,
      "outputs": [
        {
          "output_type": "execute_result",
          "data": {
            "text/plain": [
              "[[688,\n",
              "  75,\n",
              "  1,\n",
              "  126,\n",
              "  130,\n",
              "  177,\n",
              "  29,\n",
              "  672,\n",
              "  1116,\n",
              "  86,\n",
              "  331,\n",
              "  51,\n",
              "  50,\n",
              "  15,\n",
              "  60,\n",
              "  148,\n",
              "  7,\n",
              "  34,\n",
              "  117,\n",
              "  1221,\n",
              "  4,\n",
              "  45,\n",
              "  59,\n",
              "  244,\n",
              "  1,\n",
              "  365,\n",
              "  31,\n",
              "  1,\n",
              "  38,\n",
              "  27,\n",
              "  143,\n",
              "  73,\n",
              "  89,\n",
              "  985]]"
            ]
          },
          "metadata": {
            "tags": []
          },
          "execution_count": 37
        }
      ]
    },
    {
      "cell_type": "code",
      "metadata": {
        "id": "k2TleNjbCtZ7",
        "colab_type": "code",
        "colab": {}
      },
      "source": [
        "maxlen=200\n",
        "X_t=pad_sequences(list_tokenizer_train,maxlen=maxlen)\n",
        "X_tes=pad_sequences(list_tokenizer_test,maxlen=maxlen)\n"
      ],
      "execution_count": 0,
      "outputs": []
    },
    {
      "cell_type": "code",
      "metadata": {
        "id": "p0hyF5BOJtX8",
        "colab_type": "code",
        "colab": {}
      },
      "source": [
        "total_num_words=[len(one_comment) for one_comment in list_tokenizer_train]"
      ],
      "execution_count": 0,
      "outputs": []
    },
    {
      "cell_type": "code",
      "metadata": {
        "id": "kYmCuE4WKGaD",
        "colab_type": "code",
        "outputId": "326828ba-bf00-4826-f15a-478d4110af52",
        "colab": {
          "base_uri": "https://localhost:8080/",
          "height": 269
        }
      },
      "source": [
        "import matplotlib.pyplot as plt\n",
        "plt.hist(total_num_words,bins=np.arange(0,450,10))\n",
        "plt.show()"
      ],
      "execution_count": 40,
      "outputs": [
        {
          "output_type": "display_data",
          "data": {
            "image/png": "[encoded data removed]",
            "text/plain": [
              "<Figure size 432x288 with 1 Axes>"
            ]
          },
          "metadata": {
            "tags": []
          }
        }
      ]
    },
    {
      "cell_type": "code",
      "metadata": {
        "id": "-knWcAFfKJ3O",
        "colab_type": "code",
        "colab": {}
      },
      "source": [
        "\n",
        "from keras.layers import Dense,LSTM,Embedding,Dropout,Activation,GlobalMaxPooling1D\n",
        "from keras.models import Sequential"
      ],
      "execution_count": 0,
      "outputs": []
    },
    {
      "cell_type": "code",
      "metadata": {
        "id": "de_FjOmNLbgf",
        "colab_type": "code",
        "colab": {}
      },
      "source": [
        "embed_Size=128\n",
        "model=Sequential()\n",
        "model.add(Embedding(max_features,embed_Size,input_length=200))\n",
        "model.add(LSTM(60, name='lstm_layer'))\n",
        "\n",
        "model.add(Dense(6,activation='sigmoid'))\n"
      ],
      "execution_count": 0,
      "outputs": []
    },
    {
      "cell_type": "code",
      "metadata": {
        "id": "xCQEnm9QM70I",
        "colab_type": "code",
        "colab": {}
      },
      "source": [
        "model.compile(loss='binary_crossentropy',optimizer='adam',metrics=(['accuracy']))"
      ],
      "execution_count": 0,
      "outputs": []
    },
    {
      "cell_type": "code",
      "metadata": {
        "id": "dTeZrskbPM29",
        "colab_type": "code",
        "colab": {}
      },
      "source": [
        "from sklearn.model_selection import train_test_split\n",
        "X_train,X_valid,y_train,y_valid=train_test_split(X_t,y,test_size=0.2)\n",
        "\n",
        "X_test,X_val,y_test,y_val=train_test_split(X_valid,y_valid,test_size=0.5)"
      ],
      "execution_count": 0,
      "outputs": []
    },
    {
      "cell_type": "code",
      "metadata": {
        "id": "Xp8IbHFCQBsw",
        "colab_type": "code",
        "outputId": "ce46ba13-7454-4320-f161-6a900600a20f",
        "colab": {
          "base_uri": "https://localhost:8080/",
          "height": 255
        }
      },
      "source": [
        "model.fit(X_train,y_train,epochs=5,batch_size=32,validation_data=(X_val,y_val))"
      ],
      "execution_count": 18,
      "outputs": [
        {
          "output_type": "stream",
          "text": [
            "Train on 127656 samples, validate on 15958 samples\n",
            "Epoch 1/5\n",
            "127656/127656 [==============================] - 1560s 12ms/step - loss: 0.0565 - acc: 0.9805 - val_loss: 0.0548 - val_acc: 0.9811\n",
            "Epoch 2/5\n",
            "127656/127656 [==============================] - 1532s 12ms/step - loss: 0.0533 - acc: 0.9812 - val_loss: 0.0540 - val_acc: 0.9814\n",
            "Epoch 3/5\n",
            "127656/127656 [==============================] - 1560s 12ms/step - loss: 0.0503 - acc: 0.9820 - val_loss: 0.0542 - val_acc: 0.9808\n",
            "Epoch 4/5\n",
            "127656/127656 [==============================] - 1572s 12ms/step - loss: 0.0478 - acc: 0.9826 - val_loss: 0.0534 - val_acc: 0.9814\n",
            "Epoch 5/5\n",
            "127656/127656 [==============================] - 1566s 12ms/step - loss: 0.0454 - acc: 0.9833 - val_loss: 0.0546 - val_acc: 0.9814\n"
          ],
          "name": "stdout"
        },
        {
          "output_type": "execute_result",
          "data": {
            "text/plain": [
              "<keras.callbacks.History at 0x7f4c993d65f8>"
            ]
          },
          "metadata": {
            "tags": []
          },
          "execution_count": 18
        }
      ]
    },
    {
      "cell_type": "code",
      "metadata": {
        "id": "TmKVkSCWfp99",
        "colab_type": "code",
        "colab": {}
      },
      "source": [
        "model.save_weights(\"model_lstm_5_epoch.h5\")\n"
      ],
      "execution_count": 0,
      "outputs": []
    },
    {
      "cell_type": "code",
      "metadata": {
        "id": "gCF1m5GDGt4A",
        "colab_type": "code",
        "colab": {
          "base_uri": "https://localhost:8080/",
          "height": 54
        },
        "outputId": "5ecb2458-2884-42bb-e679-b0b65f51c53d"
      },
      "source": [
        "model.evaluate(X_test,y_test,batch_size=32)"
      ],
      "execution_count": 21,
      "outputs": [
        {
          "output_type": "stream",
          "text": [
            "15957/15957 [==============================] - 72s 4ms/step\n"
          ],
          "name": "stdout"
        },
        {
          "output_type": "execute_result",
          "data": {
            "text/plain": [
              "[0.05680826876027442, 0.9809592317696644]"
            ]
          },
          "metadata": {
            "tags": []
          },
          "execution_count": 21
        }
      ]
    },
    {
      "cell_type": "code",
      "metadata": {
        "id": "PDzOBs9EQJPJ",
        "colab_type": "code",
        "colab": {}
      },
      "source": [
        "ans=model.predict(X_tes)\n"
      ],
      "execution_count": 0,
      "outputs": []
    },
    {
      "cell_type": "code",
      "metadata": {
        "id": "J5MRKj2-IqRJ",
        "colab_type": "code",
        "colab": {
          "base_uri": "https://localhost:8080/",
          "height": 254
        },
        "outputId": "e3db3d69-eb64-41b8-86c0-01e433c39ebd"
      },
      "source": [
        "ans"
      ],
      "execution_count": 25,
      "outputs": [
        {
          "output_type": "execute_result",
          "data": {
            "text/plain": [
              "array([[9.72275615e-01, 5.69678962e-01, 8.24247241e-01, 7.71910548e-02,\n",
              "        8.92395496e-01, 3.71821165e-01],\n",
              "       [2.28548050e-03, 7.03334808e-06, 4.22716141e-04, 3.01301479e-05,\n",
              "        2.55137682e-04, 1.61647797e-04],\n",
              "       [1.11910701e-03, 2.56299973e-06, 2.53796577e-04, 4.67896461e-06,\n",
              "        1.06304884e-04, 2.70307064e-05],\n",
              "       ...,\n",
              "       [1.40380859e-03, 3.27825546e-06, 2.47001648e-04, 3.86238098e-05,\n",
              "        1.25318766e-04, 5.59091568e-05],\n",
              "       [1.07967556e-02, 5.54323196e-06, 4.42117453e-04, 9.38475132e-05,\n",
              "        6.81132078e-04, 5.08517027e-04],\n",
              "       [9.83948708e-01, 4.12061214e-02, 8.21139991e-01, 3.62467766e-03,\n",
              "        4.80095506e-01, 6.53213263e-03]], dtype=float32)"
            ]
          },
          "metadata": {
            "tags": []
          },
          "execution_count": 25
        }
      ]
    },
    {
      "cell_type": "code",
      "metadata": {
        "id": "Fqs2klxePC8b",
        "colab_type": "code",
        "colab": {
          "base_uri": "https://localhost:8080/",
          "height": 72
        },
        "outputId": "5e947752-4632-4963-d16d-741437d524be"
      },
      "source": [
        "train.columns"
      ],
      "execution_count": 26,
      "outputs": [
        {
          "output_type": "execute_result",
          "data": {
            "text/plain": [
              "Index(['id', 'comment_text', 'toxic', 'severe_toxic', 'obscene', 'threat',\n",
              "       'insult', 'identity_hate'],\n",
              "      dtype='object')"
            ]
          },
          "metadata": {
            "tags": []
          },
          "execution_count": 26
        }
      ]
    },
    {
      "cell_type": "code",
      "metadata": {
        "id": "Kafgqpt2iW_S",
        "colab_type": "code",
        "colab": {}
      },
      "source": [
        "submission=pd.DataFrame()\n",
        "submission['id']=test['id']\n",
        "submission['toxic']=ans[:,0]\n",
        "submission['severe_toxic']=ans[:,1]\n",
        "submission['obscene']=ans[:,2]\n",
        "submission['threat']=ans[:,3]\n",
        "submission['insult']=ans[:,4]\n",
        "submission['identity_hate']=ans[:,5]\n"
      ],
      "execution_count": 0,
      "outputs": []
    },
    {
      "cell_type": "code",
      "metadata": {
        "id": "XrHnzRT4sSO0",
        "colab_type": "code",
        "colab": {
          "base_uri": "https://localhost:8080/",
          "height": 198
        },
        "outputId": "8c583ce4-60f5-4894-bed8-a7fb913d03e6"
      },
      "source": [
        "submission.head()"
      ],
      "execution_count": 28,
      "outputs": [
        {
          "output_type": "execute_result",
          "data": {
            "text/html": [
              "<div>\n",
              "<style scoped>\n",
              "    .dataframe tbody tr th:only-of-type {\n",
              "        vertical-align: middle;\n",
              "    }\n",
              "\n",
              "    .dataframe tbody tr th {\n",
              "        vertical-align: top;\n",
              "    }\n",
              "\n",
              "    .dataframe thead th {\n",
              "        text-align: right;\n",
              "    }\n",
              "</style>\n",
              "<table border=\"1\" class=\"dataframe\">\n",
              "  <thead>\n",
              "    <tr style=\"text-align: right;\">\n",
              "      <th></th>\n",
              "      <th>id</th>\n",
              "      <th>toxic</th>\n",
              "      <th>severe_toxic</th>\n",
              "      <th>obscene</th>\n",
              "      <th>threat</th>\n",
              "      <th>insult</th>\n",
              "      <th>identity_hate</th>\n",
              "    </tr>\n",
              "  </thead>\n",
              "  <tbody>\n",
              "    <tr>\n",
              "      <th>0</th>\n",
              "      <td>00001cee341fdb12</td>\n",
              "      <td>0.972276</td>\n",
              "      <td>0.569679</td>\n",
              "      <td>0.824247</td>\n",
              "      <td>0.077191</td>\n",
              "      <td>0.892395</td>\n",
              "      <td>0.371821</td>\n",
              "    </tr>\n",
              "    <tr>\n",
              "      <th>1</th>\n",
              "      <td>0000247867823ef7</td>\n",
              "      <td>0.002285</td>\n",
              "      <td>0.000007</td>\n",
              "      <td>0.000423</td>\n",
              "      <td>0.000030</td>\n",
              "      <td>0.000255</td>\n",
              "      <td>0.000162</td>\n",
              "    </tr>\n",
              "    <tr>\n",
              "      <th>2</th>\n",
              "      <td>00013b17ad220c46</td>\n",
              "      <td>0.001119</td>\n",
              "      <td>0.000003</td>\n",
              "      <td>0.000254</td>\n",
              "      <td>0.000005</td>\n",
              "      <td>0.000106</td>\n",
              "      <td>0.000027</td>\n",
              "    </tr>\n",
              "    <tr>\n",
              "      <th>3</th>\n",
              "      <td>00017563c3f7919a</td>\n",
              "      <td>0.000511</td>\n",
              "      <td>0.000002</td>\n",
              "      <td>0.000120</td>\n",
              "      <td>0.000007</td>\n",
              "      <td>0.000036</td>\n",
              "      <td>0.000027</td>\n",
              "    </tr>\n",
              "    <tr>\n",
              "      <th>4</th>\n",
              "      <td>00017695ad8997eb</td>\n",
              "      <td>0.022086</td>\n",
              "      <td>0.000136</td>\n",
              "      <td>0.015144</td>\n",
              "      <td>0.000267</td>\n",
              "      <td>0.006074</td>\n",
              "      <td>0.001235</td>\n",
              "    </tr>\n",
              "  </tbody>\n",
              "</table>\n",
              "</div>"
            ],
            "text/plain": [
              "                 id     toxic  severe_toxic  ...    threat    insult  identity_hate\n",
              "0  00001cee341fdb12  0.972276      0.569679  ...  0.077191  0.892395       0.371821\n",
              "1  0000247867823ef7  0.002285      0.000007  ...  0.000030  0.000255       0.000162\n",
              "2  00013b17ad220c46  0.001119      0.000003  ...  0.000005  0.000106       0.000027\n",
              "3  00017563c3f7919a  0.000511      0.000002  ...  0.000007  0.000036       0.000027\n",
              "4  00017695ad8997eb  0.022086      0.000136  ...  0.000267  0.006074       0.001235\n",
              "\n",
              "[5 rows x 7 columns]"
            ]
          },
          "metadata": {
            "tags": []
          },
          "execution_count": 28
        }
      ]
    },
    {
      "cell_type": "code",
      "metadata": {
        "id": "Xkg7jk57iXgH",
        "colab_type": "code",
        "colab": {}
      },
      "source": [
        "submission.to_csv('submit.csv',index=False)"
      ],
      "execution_count": 0,
      "outputs": []
    },
    {
      "cell_type": "code",
      "metadata": {
        "id": "a3wOZAg07-Jb",
        "colab_type": "code",
        "colab": {}
      },
      "source": [
        ""
      ],
      "execution_count": 0,
      "outputs": []
    },
    {
      "cell_type": "code",
      "metadata": {
        "id": "6WwqFyCzsXdg",
        "colab_type": "code",
        "colab": {}
      },
      "source": [
        ""
      ],
      "execution_count": 0,
      "outputs": []
    },
    {
      "cell_type": "code",
      "metadata": {
        "id": "Dy8g-rar6eZI",
        "colab_type": "code",
        "colab": {}
      },
      "source": [
        ""
      ],
      "execution_count": 0,
      "outputs": []
    },
    {
      "cell_type": "code",
      "metadata": {
        "id": "Efu22nwb-eW_",
        "colab_type": "code",
        "colab": {}
      },
      "source": [
        ""
      ],
      "execution_count": 0,
      "outputs": []
    },
    {
      "cell_type": "code",
      "metadata": {
        "id": "u1bvgoit8_X7",
        "colab_type": "code",
        "colab": {}
      },
      "source": [
        ""
      ],
      "execution_count": 0,
      "outputs": []
    },
    {
      "cell_type": "code",
      "metadata": {
        "id": "HpwNGGV1E8HX",
        "colab_type": "code",
        "colab": {}
      },
      "source": [
        ""
      ],
      "execution_count": 0,
      "outputs": []
    }
  ]
}